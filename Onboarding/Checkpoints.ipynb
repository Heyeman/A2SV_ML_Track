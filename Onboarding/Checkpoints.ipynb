{
 "cells": [
  {
   "cell_type": "markdown",
   "id": "70d68298",
   "metadata": {
    "id": "70d68298"
   },
   "source": [
    "# Checkpoints"
   ]
  },
  {
   "cell_type": "markdown",
   "id": "67d0260a",
   "metadata": {
    "id": "67d0260a"
   },
   "source": [
    "**CP1**:\n",
    "Given the list $[A, B, C]$, use the `itertools` module to generate all possible\n",
    "combinations of 2 elements.\n",
    "\n",
    "**Expected Output**:\n",
    "$$\n",
    " (A, B) \\\\\n",
    " (A, C) \\\\\n",
    " (B, C)\n",
    "$$"
   ]
  },
  {
   "cell_type": "code",
   "execution_count": 1,
   "id": "9dd63d67",
   "metadata": {
    "colab": {
     "base_uri": "https://localhost:8080/"
    },
    "id": "9dd63d67",
    "outputId": "9032c965-5a0e-48ee-f428-dc1cf1f2453f"
   },
   "outputs": [
    {
     "name": "stdout",
     "output_type": "stream",
     "text": [
      "('A', 'B')\n",
      "('A', 'C')\n",
      "('B', 'C')\n"
     ]
    }
   ],
   "source": [
    "import itertools as it\n",
    "words = it.combinations(['A', 'B', 'C'], 2)\n",
    "for word in words:\n",
    "  print(word)"
   ]
  },
  {
   "cell_type": "markdown",
   "id": "31c15dce",
   "metadata": {
    "id": "31c15dce"
   },
   "source": [
    "**CP2**:\n",
    "Use the `itertools` module to create a sequence that cycles through\n",
    "['Python', 'is', 'fun'] infinitely. Print the first 10 elements of the sequence.\n",
    "\n",
    "**Expected Output**:\n",
    "$$\n",
    "Python \\\\\n",
    "is\\\\\n",
    "fun\\\\\n",
    "Python\\\\\n",
    "is\\\\\n",
    "fun\\\\\n",
    "Python\\\\\n",
    "is\\\\\n",
    "fun\\\\\n",
    "Python\n",
    "$$"
   ]
  },
  {
   "cell_type": "code",
   "execution_count": 2,
   "id": "c75f246c",
   "metadata": {
    "colab": {
     "base_uri": "https://localhost:8080/"
    },
    "id": "c75f246c",
    "outputId": "f16069c1-d2b6-471a-ab12-8789605897e1"
   },
   "outputs": [
    {
     "name": "stdout",
     "output_type": "stream",
     "text": [
      "Python\n",
      "is\n",
      "fun\n",
      "Python\n",
      "is\n",
      "fun\n",
      "Python\n",
      "is\n",
      "fun\n",
      "Python\n"
     ]
    }
   ],
   "source": [
    "#your code here\n",
    "wordSequence = it.cycle([\"Python\", \"is\", \"fun\"])\n",
    "count = 0\n",
    "for word in wordSequence:\n",
    "  if count < 10:\n",
    "    print(word)\n",
    "    count += 1\n",
    "  else:\n",
    "    break"
   ]
  },
  {
   "cell_type": "markdown",
   "id": "cbef0f63",
   "metadata": {
    "id": "cbef0f63"
   },
   "source": [
    "**CP3**:\n",
    "Use the `glob` module to list all python (.py) files in your current working directory.\n",
    "\n",
    "\n"
   ]
  },
  {
   "cell_type": "code",
   "execution_count": 12,
   "id": "3e62d5b4",
   "metadata": {
    "id": "3e62d5b4"
   },
   "outputs": [
    {
     "data": {
      "text/plain": [
       "[]"
      ]
     },
     "execution_count": 12,
     "metadata": {},
     "output_type": "execute_result"
    }
   ],
   "source": [
    "#your code here\n",
    "import glob, os\n",
    "currDir = os.getcwd()\n",
    "glob.glob(currDir+\"/*.py\")\n",
    "# no files are getting printed as there isn't any .py file\n",
    "# in this dir\n"
   ]
  },
  {
   "cell_type": "markdown",
   "id": "d266d698",
   "metadata": {
    "id": "d266d698"
   },
   "source": [
    "**CP4**: You are given the following HTML content below. Write a function that uses BeautifulSoup to parse the HTML and extract the text inside the   '$<p>$'   tag.\n"
   ]
  },
  {
   "cell_type": "code",
   "execution_count": 16,
   "id": "27f941c8",
   "metadata": {
    "id": "27f941c8"
   },
   "outputs": [],
   "source": [
    "html = \"<html><body><div class='main'><h1>Welcome to AI</h1><p>AI is transforming the world</p></div></body></html>\""
   ]
  },
  {
   "cell_type": "code",
   "execution_count": 22,
   "id": "6fb1cdcf",
   "metadata": {
    "id": "6fb1cdcf"
   },
   "outputs": [
    {
     "name": "stdout",
     "output_type": "stream",
     "text": [
      "AI is transforming the world\n"
     ]
    }
   ],
   "source": [
    "#your code here\n",
    "from bs4 import BeautifulSoup\n",
    "soup = BeautifulSoup(html, \"html.parser\")\n",
    "print(soup.body.div.p.text)\n"
   ]
  },
  {
   "cell_type": "markdown",
   "id": "9570d5a4",
   "metadata": {
    "id": "a1fce3ef"
   },
   "source": [
    "**CP5**: Write a function that uses the re module to replace all occurrences of the word \"AI\" with \"Artificial Intelligence\" in a given text."
   ]
  },
  {
   "cell_type": "code",
   "execution_count": 23,
   "id": "07178a2d",
   "metadata": {
    "id": "07178a2d"
   },
   "outputs": [
    {
     "name": "stdout",
     "output_type": "stream",
     "text": [
      "Artificial Intelligence is transforming the world. With Artificial Intelligence we transform the world. Artificial Intelligence is awesome\n"
     ]
    }
   ],
   "source": [
    "#your code here\n",
    "import re\n",
    "baseString = \"AI is transforming the world. \\\n",
    "With AI we transform the world. AI is awesome\"\n",
    "print(baseString.replace(\"AI\", \"Artificial Intelligence\"))"
   ]
  },
  {
   "cell_type": "markdown",
   "id": "4e471de6",
   "metadata": {
    "id": "4e471de6"
   },
   "source": [
    "**CP6**: Create a numpy array of 10 zeros."
   ]
  },
  {
   "cell_type": "code",
   "execution_count": 25,
   "id": "7f6e9acb",
   "metadata": {
    "id": "7f6e9acb"
   },
   "outputs": [
    {
     "name": "stdout",
     "output_type": "stream",
     "text": [
      "[0. 0. 0. 0. 0. 0. 0. 0. 0. 0.]\n"
     ]
    }
   ],
   "source": [
    "#your code here\n",
    "import numpy as np\n",
    "zeros = np.zeros(10)\n",
    "print(zeros)"
   ]
  },
  {
   "cell_type": "markdown",
   "id": "5f52a63e",
   "metadata": {
    "id": "5f52a63e"
   },
   "source": [
    "**CP7** Create a numpy array of the integers from 10 to 49."
   ]
  },
  {
   "cell_type": "code",
   "execution_count": 28,
   "id": "ddb01e9a",
   "metadata": {
    "id": "ddb01e9a"
   },
   "outputs": [
    {
     "data": {
      "text/plain": [
       "array([10, 11, 12, 13, 14, 15, 16, 17, 18, 19, 20, 21, 22, 23, 24, 25, 26,\n",
       "       27, 28, 29, 30, 31, 32, 33, 34, 35, 36, 37, 38, 39, 40, 41, 42, 43,\n",
       "       44, 45, 46, 47, 48, 49])"
      ]
     },
     "execution_count": 28,
     "metadata": {},
     "output_type": "execute_result"
    }
   ],
   "source": [
    "#your code here\n",
    "np.arange(10, 50)"
   ]
  },
  {
   "cell_type": "markdown",
   "id": "79e4d614",
   "metadata": {
    "id": "79e4d614"
   },
   "source": [
    "**CP8**: Create a 3x3 numpy matrix, filled with values ranging from 0 to 8."
   ]
  },
  {
   "cell_type": "code",
   "execution_count": 31,
   "id": "76369af8",
   "metadata": {
    "id": "d3eddea4"
   },
   "outputs": [
    {
     "data": {
      "text/plain": [
       "array([[0, 1, 2],\n",
       "       [3, 4, 5],\n",
       "       [6, 7, 8]])"
      ]
     },
     "execution_count": 31,
     "metadata": {},
     "output_type": "execute_result"
    }
   ],
   "source": [
    "#your code here\n",
    "np.arange(9).reshape((3,3))"
   ]
  },
  {
   "cell_type": "markdown",
   "id": "94d98f3d",
   "metadata": {
    "id": "1b09270f"
   },
   "source": [
    "**CP9**: Explain why machine learning models require large amounts of data? What does it mean for an amount of data to be **large**?"
   ]
  },
  {
   "cell_type": "markdown",
   "id": "96b7e98b",
   "metadata": {
    "id": "a57e9726"
   },
   "source": [
    "Since ML models learn from data provided to them, giving them larger amount of data would help them learn more.\n",
    "More data means more accuracy as the models can derive out more relationships from a larger data which will increase the ***accuracy*** in turn.\n",
    "In addition, larger datasets can give the model many edge cases to consider from. So the model will be able to generalize in a better manner. The more diverse the data is, the more accurate the model prediction becomes.\n",
    "\n",
    "Large would be a difficult word to define, but I would say large would be the amount of dataset by which a model can learn different patterns(common and uncommon - edge cases) so that it could generate accurate predictions. But according to my research, the dataset should be in relation with the parameters or the degree of freedom the ML model has. Often times, it's assumed that it should be around 10 times the parameters of the model.\n"
   ]
  },
  {
   "cell_type": "markdown",
   "id": "1a357bde",
   "metadata": {
    "id": "1a357bde"
   },
   "source": [
    "**CP10**: Explain 2 ways AI can be used in an adverserial way, and what can be done to prevent it."
   ]
  },
  {
   "cell_type": "markdown",
   "id": "6e20d3a1",
   "metadata": {
    "id": "a9db70af"
   },
   "source": [
    "Since most of our daily activities are confined in the digital space, some people have been manipulating computer systems against some users. They would create deepfakes of others as a form of bullying. In addition to this, deepfakes are also being used spread fake news or propaganda, and undermine trust in legitimate media sources.\n",
    "\n",
    "Another way AI can be used in a bad way is by using it to automate discriminatory or unethical decision-making processes. For example, if an AI model is trained on biased data, it might perpetuate and amplify harmful stereotypes and discriminate against certain groups of people based on their race, gender, or other social identities. This could lead to serious consequences, such as biased hiring decisions, unfair treatment in the criminal justice system, or discriminatory pricing practices. For instance, many facial recognition models trained by european countries are said to lack proper training when it comes to people with another skin color like black.\n",
    "\n",
    "To mitigate such things,\n",
    "1. I would recommend governments to expand education to teach citizens what deepfakes are \n",
    "2. Use inclusive and unbiased training data. Computer scientists like Dr.Timnit Gebru(who is Ethiopian BTW) are working to reduce the algorithmic bias when it comes to the minority groups.\n"
   ]
  }
 ],
 "metadata": {
  "colab": {
   "provenance": []
  },
  "kernelspec": {
   "display_name": "Python 3 (ipykernel)",
   "language": "python",
   "name": "python3"
  },
  "language_info": {
   "codemirror_mode": {
    "name": "ipython",
    "version": 3
   },
   "file_extension": ".py",
   "mimetype": "text/x-python",
   "name": "python",
   "nbconvert_exporter": "python",
   "pygments_lexer": "ipython3",
   "version": "3.10.9"
  },
  "varInspector": {
   "cols": {
    "lenName": 16,
    "lenType": 16,
    "lenVar": 40
   },
   "kernels_config": {
    "python": {
     "delete_cmd_postfix": "",
     "delete_cmd_prefix": "del ",
     "library": "var_list.py",
     "varRefreshCmd": "print(var_dic_list())"
    },
    "r": {
     "delete_cmd_postfix": ") ",
     "delete_cmd_prefix": "rm(",
     "library": "var_list.r",
     "varRefreshCmd": "cat(var_dic_list()) "
    }
   },
   "types_to_exclude": [
    "module",
    "function",
    "builtin_function_or_method",
    "instance",
    "_Feature"
   ],
   "window_display": false
  }
 },
 "nbformat": 4,
 "nbformat_minor": 5
}
